{
 "cells": [
  {
   "cell_type": "code",
   "execution_count": 11,
   "metadata": {},
   "outputs": [
    {
     "name": "stdout",
     "output_type": "stream",
     "text": [
      "Done\n"
     ]
    }
   ],
   "source": [
    "import csv\n",
    "import pandas as pd\n",
    "import seaborn as sns\n",
    "import matplotlib.pyplot as plt\n",
    "import numpy as np\n",
    "origin_path = '../Data_asm/bank_marketing_dataset.csv'\n",
    "clean_path = '../Data_asm/bank_marketing_fix.csv'\n",
    "HEADER = ['Age', 'Job', 'Marital', 'Education', 'Default', 'Housing', 'Loan', 'Contact', 'Month', 'Day_of_week', 'Duration', 'campaign', 'pdays', 'previous', 'poutcome', 'emp.var.rate', 'cons.price.idx', 'cons.conf.idx', 'euribor3m', 'Nr.employed', 'Subscribed']\n",
    "with open(origin_path, 'r', encoding='utf-8') as f:\n",
    "    reader = csv.reader(f)\n",
    "    header = next(reader)\n",
    "    fw = open(clean_path, 'w', encoding='utf-8')\n",
    "\n",
    "    writer = csv.writer(fw)\n",
    "    writer.writerow(HEADER)\n",
    "            \n",
    "    for row in reader:\n",
    "        #change housing\n",
    "        if row[5] == 'yes':\n",
    "            row[5] = 'Housing-loan'\n",
    "        else:\n",
    "            row[5] = 'Not housing-loan'\n",
    "        #change loan:\n",
    "        if row[6] == 'yes':\n",
    "            row[6] = 'Personal loan'\n",
    "        else:\n",
    "            row[6] = 'Not Personal loan'\n",
    "        writer.writerow(row)\n",
    "        #change '.' => ' '\n",
    "        if row[3]:\n",
    "            x = [x.strip() for x in row[3].split(',')]\n",
    "            x = row[3]\n",
    "        \n",
    "print('Done')"
   ]
  }
 ],
 "metadata": {
  "kernelspec": {
   "display_name": "Python 3",
   "language": "python",
   "name": "python3"
  },
  "language_info": {
   "codemirror_mode": {
    "name": "ipython",
    "version": 3
   },
   "file_extension": ".py",
   "mimetype": "text/x-python",
   "name": "python",
   "nbconvert_exporter": "python",
   "pygments_lexer": "ipython3",
   "version": "3.10.0"
  },
  "orig_nbformat": 4
 },
 "nbformat": 4,
 "nbformat_minor": 2
}
